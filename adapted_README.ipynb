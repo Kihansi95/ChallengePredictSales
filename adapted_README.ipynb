{
 "cells": [
  {
   "cell_type": "markdown",
   "metadata": {},
   "source": [
    "<div >\n",
    "<img src=\"logo.jpg\", width=150, ALIGN=\"left\", border=20>\n",
    "<center>\n",
    "<h1>Final project</h1>\n",
    "<br>This code was tested with <br>\n",
    "Python 2.7.13 | Anaconda 4.3.1 (https://anaconda.org/)<br>\n",
    "<i> Adapted for Chalab by Isabelle Guyon from original code of Balázs Kégl</i> <br>\n",
    "<a href=\"http://www.datascience-paris-saclay.fr\">Paris Saclay Center for Data Science (CDS)</a>\n",
    "</center>\n",
    "</div>"
   ]
  },
  {
   "cell_type": "markdown",
   "metadata": {},
   "source": [
    "# Introduction\n",
    "\n",
    "The aim of this competition is to predict at best the sales by some stores. This notebook helps the users in the preparation of submissions. "
   ]
  },
  {
   "cell_type": "code",
   "execution_count": 1,
   "metadata": {},
   "outputs": [],
   "source": [
    "# Keep this:\n",
    "model_dir = 'sample_code_submission/'          \n",
    "problem_dir = 'ingestion_program/'  \n",
    "score_dir = 'scoring_program/'\n",
    "from sys import path; path.append(model_dir); path.append(problem_dir); path.append(score_dir); \n",
    "%matplotlib inline\n",
    "%load_ext autoreload\n",
    "%autoreload 2\n",
    "import seaborn as sns; sns.set()"
   ]
  },
  {
   "cell_type": "markdown",
   "metadata": {},
   "source": [
    "<div >\n",
    "<h2> Step 1: Exploratory data analysis </h2>\n",
    "Create a folder 'sample_data' and put the files in Data1 (available by github) inside it. This is the folder with the data and solutions for the training data. \n",
    "</div>"
   ]
  },
  {
   "cell_type": "code",
   "execution_count": 2,
   "metadata": {},
   "outputs": [
    {
     "name": "stdout",
     "output_type": "stream",
     "text": [
      "sample_data:\r\n",
      "store_feat.name   store_public.info  store_train.data\t   store_valid.data\r\n",
      "store_label.name  store_test.data    store_train.solution\r\n",
      "\r\n",
      "sample_data_iris:\r\n",
      "iris_feat.name\t  iris_test.data      iris_train.solution\r\n",
      "iris_label.name   iris_test.solution  iris_valid.data\r\n",
      "iris_public.info  iris_train.data     iris_valid.solution\r\n"
     ]
    }
   ],
   "source": [
    "datadir = 'sample_data'              # Change this to the directory where you put the input data\n",
    "dataname = 'store'\n",
    "!ls $datadir*"
   ]
  },
  {
   "cell_type": "markdown",
   "metadata": {},
   "source": [
    "For convenience, we load the data as a \"pandas\" data frame, so we can use \"pandas\" and \"seaborn\" built in functions to explore the data. "
   ]
  },
  {
   "cell_type": "code",
   "execution_count": 3,
   "metadata": {},
   "outputs": [
    {
     "name": "stdout",
     "output_type": "stream",
     "text": [
      "Reading sample_data/store_train from AutoML format\n",
      "Number of examples = 712046\n",
      "Number of features = 8\n",
      "Number of classes = 1\n"
     ]
    }
   ],
   "source": [
    "from data_io import read_as_df\n",
    "data = read_as_df(datadir  + '/' + dataname)                # The data are loaded as a Pandas Data Frame\n",
    "target_name = data.columns.values[-1]                       # The last column is the target"
   ]
  },
  {
   "cell_type": "code",
   "execution_count": 4,
   "metadata": {},
   "outputs": [
    {
     "data": {
      "text/html": [
       "<div>\n",
       "<style scoped>\n",
       "    .dataframe tbody tr th:only-of-type {\n",
       "        vertical-align: middle;\n",
       "    }\n",
       "\n",
       "    .dataframe tbody tr th {\n",
       "        vertical-align: top;\n",
       "    }\n",
       "\n",
       "    .dataframe thead th {\n",
       "        text-align: right;\n",
       "    }\n",
       "</style>\n",
       "<table border=\"1\" class=\"dataframe\">\n",
       "  <thead>\n",
       "    <tr style=\"text-align: right;\">\n",
       "      <th></th>\n",
       "      <th>Store</th>\n",
       "      <th>DayOfWeek</th>\n",
       "      <th>Date</th>\n",
       "      <th>Customers</th>\n",
       "      <th>Open</th>\n",
       "      <th>Promo</th>\n",
       "      <th>StateHoliday</th>\n",
       "      <th>SchoolHoliday</th>\n",
       "      <th>target</th>\n",
       "    </tr>\n",
       "  </thead>\n",
       "  <tbody>\n",
       "    <tr>\n",
       "      <th>0</th>\n",
       "      <td>874</td>\n",
       "      <td>4</td>\n",
       "      <td>2014-12-18</td>\n",
       "      <td>653</td>\n",
       "      <td>1</td>\n",
       "      <td>1</td>\n",
       "      <td>0</td>\n",
       "      <td>0</td>\n",
       "      <td>Sales</td>\n",
       "    </tr>\n",
       "    <tr>\n",
       "      <th>1</th>\n",
       "      <td>244</td>\n",
       "      <td>1</td>\n",
       "      <td>2013-08-19</td>\n",
       "      <td>448</td>\n",
       "      <td>1</td>\n",
       "      <td>0</td>\n",
       "      <td>0</td>\n",
       "      <td>1</td>\n",
       "      <td>Sales</td>\n",
       "    </tr>\n",
       "    <tr>\n",
       "      <th>2</th>\n",
       "      <td>222</td>\n",
       "      <td>2</td>\n",
       "      <td>2014-06-10</td>\n",
       "      <td>627</td>\n",
       "      <td>1</td>\n",
       "      <td>0</td>\n",
       "      <td>0</td>\n",
       "      <td>0</td>\n",
       "      <td>Sales</td>\n",
       "    </tr>\n",
       "    <tr>\n",
       "      <th>3</th>\n",
       "      <td>655</td>\n",
       "      <td>5</td>\n",
       "      <td>2013-04-05</td>\n",
       "      <td>545</td>\n",
       "      <td>1</td>\n",
       "      <td>0</td>\n",
       "      <td>0</td>\n",
       "      <td>1</td>\n",
       "      <td>Sales</td>\n",
       "    </tr>\n",
       "    <tr>\n",
       "      <th>4</th>\n",
       "      <td>806</td>\n",
       "      <td>4</td>\n",
       "      <td>2013-12-19</td>\n",
       "      <td>729</td>\n",
       "      <td>1</td>\n",
       "      <td>1</td>\n",
       "      <td>0</td>\n",
       "      <td>0</td>\n",
       "      <td>Sales</td>\n",
       "    </tr>\n",
       "  </tbody>\n",
       "</table>\n",
       "</div>"
      ],
      "text/plain": [
       "   Store  DayOfWeek        Date  Customers  Open  Promo StateHoliday  \\\n",
       "0    874          4  2014-12-18        653     1      1            0   \n",
       "1    244          1  2013-08-19        448     1      0            0   \n",
       "2    222          2  2014-06-10        627     1      0            0   \n",
       "3    655          5  2013-04-05        545     1      0            0   \n",
       "4    806          4  2013-12-19        729     1      1            0   \n",
       "\n",
       "   SchoolHoliday target  \n",
       "0              0  Sales  \n",
       "1              1  Sales  \n",
       "2              0  Sales  \n",
       "3              1  Sales  \n",
       "4              0  Sales  "
      ]
     },
     "execution_count": 4,
     "metadata": {},
     "output_type": "execute_result"
    }
   ],
   "source": [
    "data.head()"
   ]
  },
  {
   "cell_type": "code",
   "execution_count": 5,
   "metadata": {},
   "outputs": [
    {
     "data": {
      "text/html": [
       "<div>\n",
       "<style scoped>\n",
       "    .dataframe tbody tr th:only-of-type {\n",
       "        vertical-align: middle;\n",
       "    }\n",
       "\n",
       "    .dataframe tbody tr th {\n",
       "        vertical-align: top;\n",
       "    }\n",
       "\n",
       "    .dataframe thead th {\n",
       "        text-align: right;\n",
       "    }\n",
       "</style>\n",
       "<table border=\"1\" class=\"dataframe\">\n",
       "  <thead>\n",
       "    <tr style=\"text-align: right;\">\n",
       "      <th></th>\n",
       "      <th>Store</th>\n",
       "      <th>DayOfWeek</th>\n",
       "      <th>Customers</th>\n",
       "      <th>Open</th>\n",
       "      <th>Promo</th>\n",
       "      <th>SchoolHoliday</th>\n",
       "    </tr>\n",
       "  </thead>\n",
       "  <tbody>\n",
       "    <tr>\n",
       "      <th>count</th>\n",
       "      <td>712046.000000</td>\n",
       "      <td>712046.000000</td>\n",
       "      <td>712046.000000</td>\n",
       "      <td>712046.000000</td>\n",
       "      <td>712046.000000</td>\n",
       "      <td>712046.000000</td>\n",
       "    </tr>\n",
       "    <tr>\n",
       "      <th>mean</th>\n",
       "      <td>558.409264</td>\n",
       "      <td>3.999173</td>\n",
       "      <td>633.279063</td>\n",
       "      <td>0.829910</td>\n",
       "      <td>0.381151</td>\n",
       "      <td>0.178504</td>\n",
       "    </tr>\n",
       "    <tr>\n",
       "      <th>std</th>\n",
       "      <td>321.906650</td>\n",
       "      <td>1.997958</td>\n",
       "      <td>465.108051</td>\n",
       "      <td>0.375712</td>\n",
       "      <td>0.485670</td>\n",
       "      <td>0.382937</td>\n",
       "    </tr>\n",
       "    <tr>\n",
       "      <th>min</th>\n",
       "      <td>1.000000</td>\n",
       "      <td>1.000000</td>\n",
       "      <td>0.000000</td>\n",
       "      <td>0.000000</td>\n",
       "      <td>0.000000</td>\n",
       "      <td>0.000000</td>\n",
       "    </tr>\n",
       "    <tr>\n",
       "      <th>25%</th>\n",
       "      <td>280.000000</td>\n",
       "      <td>2.000000</td>\n",
       "      <td>404.000000</td>\n",
       "      <td>1.000000</td>\n",
       "      <td>0.000000</td>\n",
       "      <td>0.000000</td>\n",
       "    </tr>\n",
       "    <tr>\n",
       "      <th>50%</th>\n",
       "      <td>558.000000</td>\n",
       "      <td>4.000000</td>\n",
       "      <td>609.000000</td>\n",
       "      <td>1.000000</td>\n",
       "      <td>0.000000</td>\n",
       "      <td>0.000000</td>\n",
       "    </tr>\n",
       "    <tr>\n",
       "      <th>75%</th>\n",
       "      <td>838.000000</td>\n",
       "      <td>6.000000</td>\n",
       "      <td>837.000000</td>\n",
       "      <td>1.000000</td>\n",
       "      <td>1.000000</td>\n",
       "      <td>0.000000</td>\n",
       "    </tr>\n",
       "    <tr>\n",
       "      <th>max</th>\n",
       "      <td>1115.000000</td>\n",
       "      <td>7.000000</td>\n",
       "      <td>7388.000000</td>\n",
       "      <td>1.000000</td>\n",
       "      <td>1.000000</td>\n",
       "      <td>1.000000</td>\n",
       "    </tr>\n",
       "  </tbody>\n",
       "</table>\n",
       "</div>"
      ],
      "text/plain": [
       "               Store      DayOfWeek      Customers           Open  \\\n",
       "count  712046.000000  712046.000000  712046.000000  712046.000000   \n",
       "mean      558.409264       3.999173     633.279063       0.829910   \n",
       "std       321.906650       1.997958     465.108051       0.375712   \n",
       "min         1.000000       1.000000       0.000000       0.000000   \n",
       "25%       280.000000       2.000000     404.000000       1.000000   \n",
       "50%       558.000000       4.000000     609.000000       1.000000   \n",
       "75%       838.000000       6.000000     837.000000       1.000000   \n",
       "max      1115.000000       7.000000    7388.000000       1.000000   \n",
       "\n",
       "               Promo  SchoolHoliday  \n",
       "count  712046.000000  712046.000000  \n",
       "mean        0.381151       0.178504  \n",
       "std         0.485670       0.382937  \n",
       "min         0.000000       0.000000  \n",
       "25%         0.000000       0.000000  \n",
       "50%         0.000000       0.000000  \n",
       "75%         1.000000       0.000000  \n",
       "max         1.000000       1.000000  "
      ]
     },
     "execution_count": 5,
     "metadata": {},
     "output_type": "execute_result"
    }
   ],
   "source": [
    "data.describe() "
   ]
  },
  {
   "cell_type": "markdown",
   "metadata": {},
   "source": [
    "# Step 2: Building a predictive model\n"
   ]
  },
  {
   "cell_type": "markdown",
   "metadata": {},
   "source": [
    "## Loading data with DataManager\n",
    "We reload the data with the AutoML DataManager class because this is more convenient.\n",
    "\n",
    "Note that we use `conv_to_num=False`, this means that categorical target values encoded in AutoML format with the 1-hot encoding are NOT converted to categorical labels (which is what scikit-learn assumes). Hence this conversion will need to be done before you call any scikit-learn model. Be aware that the variable 'date' is a string and the following is not going to work, unless the variable is transformed into a Float number, with a suitable transformation. Make this transformation before running the following code."
   ]
  },
  {
   "cell_type": "code",
   "execution_count": 5,
   "metadata": {},
   "outputs": [
    {
     "name": "stdout",
     "output_type": "stream",
     "text": [
      "Info file found : /home/kihansi/Projects/FinalProject_CertBigData/starting_kit/sample_data/store_public.info\n",
      "========= Reading sample_data/store_feat.type\n",
      "[+] Success in  0.00 sec\n",
      "========= Reading sample_data/store_train.data\n",
      "[['874' '4' '2014-12-18' ... '1' '0' '0']\n",
      " ['244' '1' '2013-08-19' ... '0' '0' '1']\n",
      " ['222' '2' '2014-06-10' ... '0' '0' '0']\n",
      " ...\n",
      " ['546' '1' '2015-04-27' ... '1' '0' '0']\n",
      " ['146' '7' '2013-02-24' ... '0' '0' '0']\n",
      " ['121' '1' '2014-03-10' ... '0' '0' '0']]\n",
      "Reading sample_data/store_train.data...\n",
      "Converting sample_data/store_train.data to correct array...\n",
      "Replace missing values by 0 (slow, sorry)\n",
      "[+] Success in  6.69 sec\n",
      "========= Reading sample_data/store_train.solution\n",
      "[+] Success in  0.88 sec\n",
      "========= Reading sample_data/store_valid.data\n",
      "[['545' '4' '2014-09-04' ... '1' '0' '0']\n",
      " ['376' '7' '2013-02-17' ... '0' '0' '0']\n",
      " ['628' '5' '2013-05-10' ... '0' '0' '1']\n",
      " ...\n",
      " ['828' '3' '2014-07-09' ... '0' '0' '0']\n",
      " ['31' '6' '2015-07-11' ... '0' '0' '0']\n",
      " ['300' '6' '2013-12-07' ... '0' '0' '0']]\n",
      "Reading sample_data/store_valid.data...\n",
      "Converting sample_data/store_valid.data to correct array...\n",
      "Replace missing values by 0 (slow, sorry)\n",
      "[+] Success in  0.94 sec\n",
      "========= Reading sample_data/store_test.data\n",
      "[['1084' '7' '2014-12-28' ... '0' '0' '1']\n",
      " ['218' '5' '2015-06-26' ... '0' '0' '0']\n",
      " ['289' '3' '2013-03-27' ... '1' '0' '1']\n",
      " ...\n",
      " ['997' '5' '2014-05-16' ... '0' '0' '0']\n",
      " ['515' '6' '2013-07-27' ... '0' '0' '0']\n",
      " ['420' '1' '2015-06-01' ... '1' '0' '1']]\n",
      "Reading sample_data/store_test.data...\n",
      "Converting sample_data/store_test.data to correct array...\n",
      "Replace missing values by 0 (slow, sorry)\n",
      "[+] Success in  2.63 sec\n",
      "DataManager : store\n",
      "info:\n",
      "\tusage = Sample dataset data\n",
      "\tname = wavestone\n",
      "\ttask = regression\n",
      "\ttarget_type = Numerical\n",
      "\tfeat_type = Numerical, String\n",
      "\tmetric = bac_metric\n",
      "\ttime_budget = 1200\n",
      "\tfeat_num = 8\n",
      "\ttarget_num = 1\n",
      "\tlabel_num = 1\n",
      "\ttrain_num = 712046\n",
      "\tvalid_num = 101722\n",
      "\ttest_num = 203441\n",
      "\thas_categorical = 0\n",
      "\thas_missing = 1\n",
      "\tis_sparse = 0\n",
      "\tformat = dense\n",
      "data:\n",
      "\tX_train = array(712046, 11)\n",
      "\tY_train = array(712046,)\n",
      "\tX_valid = array(101722, 11)\n",
      "\tX_test = array(203441, 11)\n",
      "feat_type:\tarray(8,)\n",
      "feat_idx:\tarray(0,)\n",
      "\n"
     ]
    }
   ],
   "source": [
    "from data_manager import DataManager\n",
    "#D = DataManager(dataname, datadir, replace_missing=True, conv_to_num=False)\n",
    "D = DataManager(dataname, datadir, replace_missing=True, verbose=True)\n",
    "print(D)"
   ]
  },
  {
   "cell_type": "markdown",
   "metadata": {},
   "source": [
    "## Training a predictive model\n",
    "We provide an example of predictive model (for classification or regression) in the `sample_code_submission/` directory. It is a quite stupid model: it makes constant predictions. Replace it with your own model."
   ]
  },
  {
   "cell_type": "code",
   "execution_count": 6,
   "metadata": {},
   "outputs": [],
   "source": [
    "from model import model\n",
    "??model "
   ]
  },
  {
   "cell_type": "markdown",
   "metadata": {},
   "source": [
    "<div >\n",
    "<h3>Create the model</h3>\n",
    "Create an instance of the model (run the constructor) \n",
    "</div>"
   ]
  },
  {
   "cell_type": "code",
   "execution_count": 7,
   "metadata": {},
   "outputs": [],
   "source": [
    "M = model()   \n",
    "trained_model_name = model_dir + dataname"
   ]
  },
  {
   "cell_type": "markdown",
   "metadata": {},
   "source": [
    "<h3> Training:</h3>"
   ]
  },
  {
   "cell_type": "code",
   "execution_count": 8,
   "metadata": {},
   "outputs": [],
   "source": [
    "X_train = D.data['X_train']\n",
    "Y_train = D.data['Y_train']\n",
    "\n",
    "if not(M.is_trained):               # No need to train if model already trained\n",
    "    M.fit(X_train, Y_train)  "
   ]
  },
  {
   "cell_type": "markdown",
   "metadata": {},
   "source": [
    "### Making predictions:"
   ]
  },
  {
   "cell_type": "code",
   "execution_count": 9,
   "metadata": {},
   "outputs": [],
   "source": [
    "Y_hat_train = M.predict(D.data['X_train']) # Optional, not really needed to test on taining examples\n",
    "Y_hat_valid = M.predict(D.data['X_valid'])\n",
    "Y_hat_test = M.predict(D.data['X_test'])"
   ]
  },
  {
   "cell_type": "markdown",
   "metadata": {},
   "source": [
    "## Scoring the results\n",
    "### Load the challenge metric\n",
    "<b>The metric chosen for your challenge</b> is identified in the \"metric.txt\" file found in the `scoring_function/` directory. We use here the `mse_metric` metric (an example of organizer-supplied metric found in `my_metric.py`), which computes the mean-square-error. "
   ]
  },
  {
   "cell_type": "code",
   "execution_count": 10,
   "metadata": {},
   "outputs": [
    {
     "name": "stdout",
     "output_type": "stream",
     "text": [
      "Using scoring metric: mse_metric\n"
     ]
    }
   ],
   "source": [
    "with open(score_dir + 'metric.txt', 'r') as f:\n",
    "    metric_name = f.readline().strip()\n",
    "import libscores, my_metric\n",
    "try:\n",
    "    scoring_function = getattr(libscores, metric_name)\n",
    "except:\n",
    "    scoring_function = getattr(my_metric, metric_name)\n",
    "print('Using scoring metric:', metric_name)\n",
    "??scoring_function"
   ]
  },
  {
   "cell_type": "markdown",
   "metadata": {},
   "source": [
    "### Training performance\n",
    "The participants posess target values (labels) only for training examples. We compute with the mse metric the training score, which should be zero for perfect predictions. "
   ]
  },
  {
   "cell_type": "code",
   "execution_count": 26,
   "metadata": {},
   "outputs": [],
   "source": [
    "import numpy as np\n",
    "Y_train = np.expand_dims(Y_train, axis=1)"
   ]
  },
  {
   "cell_type": "code",
   "execution_count": 27,
   "metadata": {},
   "outputs": [
    {
     "name": "stdout",
     "output_type": "stream",
     "text": [
      "Training score for the mse_metric metric = 46593091.9415\n",
      "Ideal score for the mse_metric metric = 0.0000\n"
     ]
    }
   ],
   "source": [
    "print ('Training score for the', metric_name, 'metric = %5.4f' % scoring_function(Y_train, Y_hat_train))\n",
    "print ('Ideal score for the', metric_name, 'metric = %5.4f' % scoring_function(Y_train, Y_train))"
   ]
  },
  {
   "cell_type": "markdown",
   "metadata": {},
   "source": [
    "<div >\n",
    "<H3> Cross-validation performance </H3>\n",
    "The participants do not have access to the labels Y_valid and Y_test to self-assess their validation and test performances. But training performance is not a good prediction of validation or test performance. We suggest to use a cross-validation. Using cross-validation, the training data is split into multiple training/test folds, which allows participants to self-assess their model during development. <br>\n",
    "</div>"
   ]
  },
  {
   "cell_type": "code",
   "execution_count": 28,
   "metadata": {},
   "outputs": [
    {
     "name": "stdout",
     "output_type": "stream",
     "text": [
      "Fold 1 example metric =  47459646.41915913\n",
      "Fold 2 example metric =  47535063.568487756\n",
      "Fold 3 example metric =  44784558.21698097\n",
      "Average score =  46593089.40154261\n"
     ]
    }
   ],
   "source": [
    "from sklearn.model_selection import KFold\n",
    "from numpy import zeros, mean\n",
    "# 3-fold cross-validation\n",
    "n = 3\n",
    "kf = KFold(n_splits=n)\n",
    "kf.get_n_splits(X_train)\n",
    "i=0\n",
    "scores = zeros(n)\n",
    "for train_index, test_index in kf.split(X_train):\n",
    "    Xtr, Xva = X_train[train_index], X_train[test_index]\n",
    "    Ytr, Yva = Y_train[train_index], Y_train[test_index]\n",
    "    M = model()\n",
    "    M.fit(Xtr, Ytr)\n",
    "    Yhat = M.predict(Xva)\n",
    "    scores[i] = scoring_function(Yva, Yhat)\n",
    "    print ('Fold', i+1, 'example metric = ', scores[i])\n",
    "    i=i+1\n",
    "print ('Average score = ', mean(scores))"
   ]
  },
  {
   "cell_type": "markdown",
   "metadata": {},
   "source": [
    "# Step 3: Making a submission\n",
    "\n",
    "## Unit testing\n",
    "\n",
    "A possibility to prepare a submission is the following one.  Modify the file <code>model.py</code> in the <code>sample_code_submission/</code> directory, then run this test to make sure everything works fine. The results of this program will be used on the server to test your submission. "
   ]
  },
  {
   "cell_type": "code",
   "execution_count": 29,
   "metadata": {
    "scrolled": true
   },
   "outputs": [],
   "source": [
    "outdir = 'sample_result_submission'     "
   ]
  },
  {
   "cell_type": "code",
   "execution_count": null,
   "metadata": {
    "scrolled": true
   },
   "outputs": [
    {
     "name": "stdout",
     "output_type": "stream",
     "text": [
      "Using input_dir: /home/kihansi/Projects/FinalProject_CertBigData/starting_kit/sample_data\n",
      "Using output_dir: /home/kihansi/Projects/FinalProject_CertBigData/starting_kit/sample_result_submission\n",
      "Using program_dir: /home/kihansi/Projects/FinalProject_CertBigData/starting_kit/ingestion_program\n",
      "Using submission_dir: /home/kihansi/Projects/FinalProject_CertBigData/starting_kit/sample_code_submission\n",
      "\n",
      "========== Ingestion program version 6 ==========\n",
      "\n",
      "************************************************\n",
      "******** Processing dataset Store ********\n",
      "************************************************\n",
      "========= Reading and converting data ==========\n",
      "Info file found : /home/kihansi/Projects/FinalProject_CertBigData/starting_kit/sample_data/store_public.info\n",
      "========= Reading /home/kihansi/Projects/FinalProject_CertBigData/starting_kit/sample_data/store_feat.type\n",
      "[+] Success in  0.00 sec\n",
      "========= Reading /home/kihansi/Projects/FinalProject_CertBigData/starting_kit/sample_data/store_train.data\n"
     ]
    }
   ],
   "source": [
    "!python $problem_dir/ingestion.py $datadir $outdir $problem_dir $model_dir"
   ]
  },
  {
   "cell_type": "markdown",
   "metadata": {
    "collapsed": true
   },
   "source": [
    "## Preparing the submission\n",
    "\n",
    "To prepare the submission, you can run the command in the previous cell on the appropriate data (testing or validation data), and then zip the contents of `sample_result_submission/` (without the directory, and remember to remove the examples that are already there).\n",
    "\n",
    "However, it is not necessary to run the previous code to prepare a submission. The site for the submission checks the predicted results against the true labels, through the scoring function. It accepts any zip file conatining files with extension '.predict'. It is important however that the name of the file matches that of the data. Example: to submit labels for store_train.data, the zip file has to contain a file named store_train.predict, with the same structure of the ones in `sample_result_submission/`\n",
    "<b><span style=\"color:red\">Do NOT zip the data with your submissions</span></b>. After the submission you are given your score. If the result is close to zero, the prediction is good. "
   ]
  },
  {
   "cell_type": "code",
   "execution_count": null,
   "metadata": {},
   "outputs": [],
   "source": []
  }
 ],
 "metadata": {
  "kernelspec": {
   "display_name": "Python 3",
   "language": "python",
   "name": "python3"
  },
  "language_info": {
   "codemirror_mode": {
    "name": "ipython",
    "version": 3
   },
   "file_extension": ".py",
   "mimetype": "text/x-python",
   "name": "python",
   "nbconvert_exporter": "python",
   "pygments_lexer": "ipython3",
   "version": "3.6.8"
  }
 },
 "nbformat": 4,
 "nbformat_minor": 1
}
